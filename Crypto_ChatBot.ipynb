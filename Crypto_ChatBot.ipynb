{
  "cells": [
    {
      "cell_type": "code",
      "execution_count": null,
      "metadata": {
        "colab": {
          "base_uri": "https://localhost:8080/",
          "height": 100
        },
        "id": "n-j5-T3SWGDl",
        "outputId": "edd49593-9529-4cae-c401-ee21b4b85331"
      },
      "outputs": [
        {
          "data": {
            "application/vnd.jupyter.widget-view+json": {
              "model_id": "7986038a461c4c47957bae2a1c22d889",
              "version_major": 2,
              "version_minor": 0
            },
            "text/plain": [
              "Text(value='', placeholder='Ask me about crypto...')"
            ]
          },
          "metadata": {},
          "output_type": "display_data"
        },
        {
          "data": {
            "application/vnd.jupyter.widget-view+json": {
              "model_id": "4d09e496019547288c729272eeb3cc9e",
              "version_major": 2,
              "version_minor": 0
            },
            "text/plain": [
              "Output()"
            ]
          },
          "metadata": {},
          "output_type": "display_data"
        }
      ],
      "source": [
        "import requests\n",
        "import ipywidgets as widgets\n",
        "from IPython.display import display, clear_output\n",
        "\n",
        "# Sample crypto database\n",
        "crypto_db = {\n",
        "    \"bitcoin\": {\"price_trend\": \"rising\", \"market_cap\": \"high\", \"sustainability_score\": 5},\n",
        "    \"ethereum\": {\"price_trend\": \"falling\", \"market_cap\": \"high\", \"sustainability_score\": 6},\n",
        "    \"cardano\": {\"price_trend\": \"rising\", \"market_cap\": \"medium\", \"sustainability_score\": 9}\n",
        "}\n",
        "\n",
        "# Aliases for coins\n",
        "coin_aliases = {\n",
        "    \"btc\": \"bitcoin\",\n",
        "    \"bitcoin\": \"bitcoin\",\n",
        "    \"eth\": \"ethereum\",\n",
        "    \"ether\": \"ethereum\",\n",
        "    \"ethereum\": \"ethereum\",\n",
        "    \"ada\": \"cardano\",\n",
        "    \"cardano\": \"cardano\"\n",
        "}\n",
        "\n",
        "# Get real-time price from CoinGecko\n",
        "def get_price(coin_id):\n",
        "    url = f\"https://api.coingecko.com/api/v3/simple/price?ids={coin_id}&vs_currencies=usd\"\n",
        "    response = requests.get(url)\n",
        "    data = response.json()\n",
        "    return data.get(coin_id, {}).get(\"usd\", \"N/A\")\n",
        "\n",
        "# Main bot logic\n",
        "def crypto_buddy(query):\n",
        "    tokens = query.lower().split()  # Replace word_tokenize with split\n",
        "    canonical_tokens = [coin_aliases.get(t, t) for t in tokens]\n",
        "    disclaimer = \"⚠️ Crypto is risky—always do your own research before investing!\"\n",
        "\n",
        "    if \"sustainable\" in canonical_tokens or \"eco\" in canonical_tokens:\n",
        "        recommend = max(crypto_db, key=lambda x: crypto_db[x][\"sustainability_score\"])\n",
        "        score = crypto_db[recommend][\"sustainability_score\"] * 10\n",
        "        return f\"🌿 Try {recommend.title()} — sustainability score: {score}/10.\\n\\n{disclaimer}\"\n",
        "\n",
        "    elif \"trending\" in canonical_tokens or \"rising\" in canonical_tokens:\n",
        "        trending = [c.title() for c in crypto_db if crypto_db[c][\"price_trend\"] == \"rising\"]\n",
        "        return f\"📈 Trending cryptos: {', '.join(trending)}.\\n\\n{disclaimer}\"\n",
        "\n",
        "    elif any(word in canonical_tokens for word in [\"profit\", \"investment\", \"invest\", \"best\"]):\n",
        "        candidates = [c.title() for c in crypto_db if crypto_db[c][\"price_trend\"] == \"rising\" and crypto_db[c][\"market_cap\"] == \"high\"]\n",
        "        if candidates:\n",
        "            return f\"💰 Best pick: {candidates[0]} — rising and high market cap.\\n\\n{disclaimer}\"\n",
        "        else:\n",
        "            return f\"🤔 No top high-cap risers now, but Cardano looks solid.\\n\\n{disclaimer}\"\n",
        "\n",
        "    elif \"price\" in canonical_tokens:\n",
        "        for token in canonical_tokens:\n",
        "            if token in crypto_db:\n",
        "                price = get_price(token)\n",
        "                return f\"💵 {token.title()} current price: ${price}.\\n\\n{disclaimer}\"\n",
        "        return f\"🧐 Please name a coin to check its price (e.g., 'Bitcoin price').\\n\\n{disclaimer}\"\n",
        "\n",
        "    else:\n",
        "        return f\"🤖 I didn’t understand. Ask about trending coins, sustainability, or prices!\\n\\n{disclaimer}\"\n",
        "\n",
        "# UI elements\n",
        "input_box = widgets.Text(placeholder=\"Ask me about crypto...\")\n",
        "output_box = widgets.Output()\n",
        "\n",
        "def handle_input(text_widget):\n",
        "    user_input = text_widget.value\n",
        "    if user_input.strip():\n",
        "        with output_box:\n",
        "            clear_output()\n",
        "            print(crypto_buddy(user_input))\n",
        "    input_box.value = \"\"\n",
        "\n",
        "input_box.on_submit(handle_input)\n",
        "display(input_box, output_box)\n"
      ]
    }
  ],
  "metadata": {
    "colab": {
      "provenance": []
    },
    "kernelspec": {
      "display_name": "Python 3",
      "name": "python3"
    },
    "language_info": {
      "name": "python"
    },
    "widgets": {
      "application/vnd.jupyter.widget-state+json": {
        "46f31f2f8f394dc79bf81b6f9102839f": {
          "model_module": "@jupyter-widgets/base",
          "model_module_version": "1.2.0",
          "model_name": "LayoutModel",
          "state": {
            "_model_module": "@jupyter-widgets/base",
            "_model_module_version": "1.2.0",
            "_model_name": "LayoutModel",
            "_view_count": null,
            "_view_module": "@jupyter-widgets/base",
            "_view_module_version": "1.2.0",
            "_view_name": "LayoutView",
            "align_content": null,
            "align_items": null,
            "align_self": null,
            "border": null,
            "bottom": null,
            "display": null,
            "flex": null,
            "flex_flow": null,
            "grid_area": null,
            "grid_auto_columns": null,
            "grid_auto_flow": null,
            "grid_auto_rows": null,
            "grid_column": null,
            "grid_gap": null,
            "grid_row": null,
            "grid_template_areas": null,
            "grid_template_columns": null,
            "grid_template_rows": null,
            "height": null,
            "justify_content": null,
            "justify_items": null,
            "left": null,
            "margin": null,
            "max_height": null,
            "max_width": null,
            "min_height": null,
            "min_width": null,
            "object_fit": null,
            "object_position": null,
            "order": null,
            "overflow": null,
            "overflow_x": null,
            "overflow_y": null,
            "padding": null,
            "right": null,
            "top": null,
            "visibility": null,
            "width": null
          }
        },
        "4d09e496019547288c729272eeb3cc9e": {
          "model_module": "@jupyter-widgets/output",
          "model_module_version": "1.0.0",
          "model_name": "OutputModel",
          "state": {
            "_dom_classes": [],
            "_model_module": "@jupyter-widgets/output",
            "_model_module_version": "1.0.0",
            "_model_name": "OutputModel",
            "_view_count": null,
            "_view_module": "@jupyter-widgets/output",
            "_view_module_version": "1.0.0",
            "_view_name": "OutputView",
            "layout": "IPY_MODEL_46f31f2f8f394dc79bf81b6f9102839f",
            "msg_id": "",
            "outputs": [
              {
                "name": "stdout",
                "output_type": "stream",
                "text": [
                  "💰 Best pick: Bitcoin — rising and high market cap.\n",
                  "\n",
                  "⚠️ Crypto is risky—always do your own research before investing!\n"
                ]
              }
            ]
          }
        },
        "7986038a461c4c47957bae2a1c22d889": {
          "model_module": "@jupyter-widgets/controls",
          "model_module_version": "1.5.0",
          "model_name": "TextModel",
          "state": {
            "_dom_classes": [],
            "_model_module": "@jupyter-widgets/controls",
            "_model_module_version": "1.5.0",
            "_model_name": "TextModel",
            "_view_count": null,
            "_view_module": "@jupyter-widgets/controls",
            "_view_module_version": "1.5.0",
            "_view_name": "TextView",
            "continuous_update": true,
            "description": "",
            "description_tooltip": null,
            "disabled": false,
            "layout": "IPY_MODEL_a9f5718881444eb18a2fb7ec5dc78fde",
            "placeholder": "Ask me about crypto...",
            "style": "IPY_MODEL_80318b1ed8c74c429e5f6811b7aba07c",
            "value": ""
          }
        },
        "80318b1ed8c74c429e5f6811b7aba07c": {
          "model_module": "@jupyter-widgets/controls",
          "model_module_version": "1.5.0",
          "model_name": "DescriptionStyleModel",
          "state": {
            "_model_module": "@jupyter-widgets/controls",
            "_model_module_version": "1.5.0",
            "_model_name": "DescriptionStyleModel",
            "_view_count": null,
            "_view_module": "@jupyter-widgets/base",
            "_view_module_version": "1.2.0",
            "_view_name": "StyleView",
            "description_width": ""
          }
        },
        "a9f5718881444eb18a2fb7ec5dc78fde": {
          "model_module": "@jupyter-widgets/base",
          "model_module_version": "1.2.0",
          "model_name": "LayoutModel",
          "state": {
            "_model_module": "@jupyter-widgets/base",
            "_model_module_version": "1.2.0",
            "_model_name": "LayoutModel",
            "_view_count": null,
            "_view_module": "@jupyter-widgets/base",
            "_view_module_version": "1.2.0",
            "_view_name": "LayoutView",
            "align_content": null,
            "align_items": null,
            "align_self": null,
            "border": null,
            "bottom": null,
            "display": null,
            "flex": null,
            "flex_flow": null,
            "grid_area": null,
            "grid_auto_columns": null,
            "grid_auto_flow": null,
            "grid_auto_rows": null,
            "grid_column": null,
            "grid_gap": null,
            "grid_row": null,
            "grid_template_areas": null,
            "grid_template_columns": null,
            "grid_template_rows": null,
            "height": null,
            "justify_content": null,
            "justify_items": null,
            "left": null,
            "margin": null,
            "max_height": null,
            "max_width": null,
            "min_height": null,
            "min_width": null,
            "object_fit": null,
            "object_position": null,
            "order": null,
            "overflow": null,
            "overflow_x": null,
            "overflow_y": null,
            "padding": null,
            "right": null,
            "top": null,
            "visibility": null,
            "width": null
          }
        }
      }
    }
  },
  "nbformat": 4,
  "nbformat_minor": 0
}
